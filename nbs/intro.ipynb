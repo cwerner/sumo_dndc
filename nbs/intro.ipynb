{
 "cells": [
  {
   "cell_type": "markdown",
   "metadata": {},
   "source": [
    "# SUMO_DNDC\n",
    "\n",
    "A surrogate model to LandscapeDNDC for faster inference... 😎\n",
    "\n",
    "The plan is to model a time-series via a LSTM. Trainging data is provided by LandscapeDNDC model runs.\n",
    "\n",
    "<figure>\n",
    "    <img src=\"../images/sketch.png\" alt=\"Sketch\" width=\"400\"/>\n",
    "    <figcaption>Fig. 1: A sketch of the model setup</figcaption>\n",
    "</figure>\n",
    "\n",
    "## Embeddings\n",
    "\n",
    "We encode the site state in one embedding layer. The current format is:\n",
    "\n",
    "### General site info  \n",
    "\n",
    "| id   | variable | min     | max     |      \n",
    "|------|----------|---------|---------|\n",
    "| 0    | site lat | NA      | NA      |\n",
    "| 1    | site lon | NA      | NA      |\n",
    "| 2    | site ele | 0       | NA      |\n",
    "\n",
    "\n",
    "### Airchemistry info  \n",
    "\n",
    "| id   | variable | min     | max     |      \n",
    "|------|----------|---------|---------|\n",
    "| 3    | nh4      | 0       | NA      |\n",
    "| 4    | no3      | 0       | NA      |\n",
    "| 5    | ch4      | 0       | NA      |\n",
    "| 6    | co2      | 0       | NA      |\n",
    "| 7    | o3       | 0       | NA      |\n",
    "| 8    | nh3      | 0       | NA      |\n",
    "| 9    | no2      | 0       | NA      |\n",
    "| 10   | no       | 0       | NA      |\n",
    "\n",
    "\n",
    "### Soil properties\n",
    "\n",
    "Soil variables are aggregated/ expanded to 10cm depth buckets.\n",
    "The top 50cm of any profile is used (depth and split are used\n",
    "to preprocess soil strata to fixed 10cm bucket format. SKS is\n",
    "omitted.\n",
    "\n",
    "| id   | variable | min     | max     |      \n",
    "|------|----------|---------|---------|\n",
    "| 11   | bd (0)   | 0       | NA      |\n",
    "| 12   | clay (0) | 0       | NA      |\n",
    "| 13   | corg (0) | 0       | NA      |\n",
    "| 14   | norg (0) | 0       | NA      |\n",
    "| 15   | ph (0)   | 0       | NA      |\n",
    "| 16   | sand (0) | 0       | NA      |\n",
    "| 17   | scel (0) | 0       | NA      |\n",
    "| 18   | silt (0) | 0       | NA      |\n",
    "| 19   | wcmin (0)| 0       | NA      |\n",
    "| 20   | wcmax (0)| 0       | NA      |\n",
    "| ...  | ...      | ...     | ...     |\n",
    "| 60   | wcmax (4)| 0       | NA      |\n",
    "\n",
    "### Other\n",
    "\n",
    "Not yet considered... Possibly site history?\n",
    "\n",
    "----"
   ]
  },
  {
   "cell_type": "code",
   "execution_count": 1,
   "metadata": {},
   "outputs": [],
   "source": [
    "%matplotlib inline\n",
    "%load_ext autoreload\n",
    "%autoreload 2\n",
    "\n",
    "import sys; sys.path.insert(0, '..') # Add directory above current directory to path"
   ]
  },
  {
   "cell_type": "code",
   "execution_count": 2,
   "metadata": {},
   "outputs": [],
   "source": [
    "# general imports"
   ]
  },
  {
   "cell_type": "code",
   "execution_count": 3,
   "metadata": {},
   "outputs": [],
   "source": [
    "from sumo_dndc.parser import Parser, InFile, OutFile"
   ]
  },
  {
   "cell_type": "code",
   "execution_count": 4,
   "metadata": {},
   "outputs": [
    {
     "name": "stdout",
     "output_type": "stream",
     "text": [
      "Creating Parser:<class 'sumo_dndc.parser.AirchemParser'>\n",
      "Parsing TxtFile ../data/DE_fendt/DE_fendt_airchem.txt\n"
     ]
    },
    {
     "data": {
      "text/plain": [
       "Parser: InFile.AIRCHEM, ../data/DE_fendt/DE_fendt_airchem.txt\n",
       "Data excerpt:\n",
       "   nh4  no3  ch4    co2   o3  nh3  no2   no\n",
       "0  1.4  0.9  0.0  400.0  0.0  0.0  0.0  0.0"
      ]
     },
     "execution_count": 4,
     "metadata": {},
     "output_type": "execute_result"
    }
   ],
   "source": [
    "airchem = Parser(InFile.AIRCHEM, \"../data/DE_fendt/DE_fendt_airchem.txt\")\n",
    "airchem"
   ]
  },
  {
   "cell_type": "code",
   "execution_count": 5,
   "metadata": {},
   "outputs": [
    {
     "name": "stdout",
     "output_type": "stream",
     "text": [
      "Creating Parser:<class 'sumo_dndc.parser.ClimateParser'>\n",
      "Parsing TxtFile ../data/DE_fendt/DE_fendt_climate.txt\n"
     ]
    },
    {
     "data": {
      "text/plain": [
       "Parser: InFile.CLIMATE, ../data/DE_fendt/DE_fendt_climate.txt\n",
       "Data excerpt:\n",
       "          *  prec      tavg  tmax   tmin       grad         rh       press  \\\n",
       "0  01.01.10   0.8 -1.558333 -0.12  -3.10  23.501792  89.145833  948.694444   \n",
       "1  02.01.10   0.6 -1.248194  0.00  -3.04  26.181847  83.873333  948.902778   \n",
       "2  03.01.10   0.0 -4.909329  1.13  -9.49  19.080529  82.456224  950.587413   \n",
       "3  04.01.10   0.0 -8.494789 -4.16 -12.14  29.938732  85.451761  946.394366   \n",
       "4  05.01.10   0.0 -8.978889  0.28 -14.18  12.868179  85.121875  942.763889   \n",
       "\n",
       "       wind  \n",
       "0  1.396806  \n",
       "1  1.837500  \n",
       "2  1.143014  \n",
       "3  0.810704  \n",
       "4  0.786667  "
      ]
     },
     "execution_count": 5,
     "metadata": {},
     "output_type": "execute_result"
    }
   ],
   "source": [
    "climate = Parser(InFile.CLIMATE)\n",
    "climate.parse(\"../data/DE_fendt/DE_fendt_climate.txt\")\n",
    "climate"
   ]
  },
  {
   "cell_type": "code",
   "execution_count": 6,
   "metadata": {},
   "outputs": [
    {
     "name": "stdout",
     "output_type": "stream",
     "text": [
      "Creating Parser:<class 'sumo_dndc.parser.SiteParser'>\n"
     ]
    }
   ],
   "source": [
    "site = Parser(InFile.SITE, \"../data/DE_fendt/DE_fendt_site.xml\")"
   ]
  },
  {
   "cell_type": "code",
   "execution_count": 7,
   "metadata": {},
   "outputs": [
    {
     "data": {
      "text/plain": [
       "Parser: InFile.SITE, ../data/DE_fendt/DE_fendt_site.xml\n",
       "Data excerpt:\n",
       "<?xml version=\"1.0\" encoding=\"utf8\"?>\n",
       "<soil>\n",
       "\t<general humus=\"MULL\" litterheight=\"\" soil=\"LOAM\" usehistory=\"grassland\"/>\n",
       "\t<layers>\n",
       "\t\t<layer bd=\"0.74\" clay=\"0.272\" corg=\"0.0679\" depth=\"50\" norg=\"0.0066\" ph=\"5.1\" sand=\"0.305\" scel=\"0.00\" silt=\"0.403\" sks=\"0.020\" split=\"3\" wcmax=\"500\" wcmin=\"235\"/>\n",
       "\t\t<layer bd=\"1.10\" clay=\"0.252\" corg=\"0.0435\" depth=\"150\" norg=\"0.0048\" ph=\"6.6\" sand=\"0.355\" scel=\"0.038\" silt=\"0.403\" sks=\"0.020\" split=\"8\" wcmax=\"460\" wcmin=\"235\"/>"
      ]
     },
     "execution_count": 7,
     "metadata": {},
     "output_type": "execute_result"
    }
   ],
   "source": [
    "site"
   ]
  },
  {
   "cell_type": "code",
   "execution_count": 8,
   "metadata": {},
   "outputs": [
    {
     "data": {
      "text/plain": [
       "Parser: InFile.AIRCHEM, ../data/DE_fendt/DE_fendt_airchem.txt\n",
       "Data excerpt:\n",
       "   nh4  no3  ch4    co2   o3  nh3  no2   no\n",
       "0  1.4  0.9  0.0  400.0  0.0  0.0  0.0  0.0"
      ]
     },
     "execution_count": 8,
     "metadata": {},
     "output_type": "execute_result"
    }
   ],
   "source": [
    "airchem"
   ]
  },
  {
   "cell_type": "code",
   "execution_count": null,
   "metadata": {},
   "outputs": [],
   "source": []
  },
  {
   "cell_type": "code",
   "execution_count": null,
   "metadata": {},
   "outputs": [],
   "source": []
  },
  {
   "cell_type": "code",
   "execution_count": null,
   "metadata": {},
   "outputs": [],
   "source": []
  }
 ],
 "metadata": {
  "kernelspec": {
   "display_name": "sumo_dndc",
   "language": "python",
   "name": "sumo_dndc"
  },
  "language_info": {
   "codemirror_mode": {
    "name": "ipython",
    "version": 3
   },
   "file_extension": ".py",
   "mimetype": "text/x-python",
   "name": "python",
   "nbconvert_exporter": "python",
   "pygments_lexer": "ipython3",
   "version": "3.7.4"
  }
 },
 "nbformat": 4,
 "nbformat_minor": 4
}
